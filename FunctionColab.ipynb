{
  "nbformat": 4,
  "nbformat_minor": 0,
  "metadata": {
    "colab": {
      "provenance": [],
      "authorship_tag": "ABX9TyNQSJLqikrlCFv2KJs2QAH7",
      "include_colab_link": true
    },
    "kernelspec": {
      "name": "python3",
      "display_name": "Python 3"
    },
    "language_info": {
      "name": "python"
    },
    "accelerator": "GPU",
    "gpuClass": "standard"
  },
  "cells": [
    {
      "cell_type": "markdown",
      "metadata": {
        "id": "view-in-github",
        "colab_type": "text"
      },
      "source": [
        "<a href=\"https://colab.research.google.com/github/samannrz/SuperviselyProject/blob/master/FunctionColab.ipynb\" target=\"_parent\"><img src=\"https://colab.research.google.com/assets/colab-badge.svg\" alt=\"Open In Colab\"/></a>"
      ]
    },
    {
      "cell_type": "code",
      "execution_count": 2,
      "metadata": {
        "colab": {
          "base_uri": "https://localhost:8080/"
        },
        "id": "YmW4DKHA8hxX",
        "outputId": "a70c4735-898d-452b-a763-9aafd136c084"
      },
      "outputs": [
        {
          "output_type": "stream",
          "name": "stdout",
          "text": [
            "Found GPU at: /device:GPU:0\n"
          ]
        }
      ],
      "source": [
        "import tensorflow as tf\n",
        "device_name = tf.test.gpu_device_name()\n",
        "if device_name != '/device:GPU:0':\n",
        "  raise SystemError('GPU device not found')\n",
        "print('Found GPU at: {}'.format(device_name))"
      ]
    },
    {
      "cell_type": "code",
      "execution_count": 3,
      "metadata": {
        "colab": {
          "base_uri": "https://localhost:8080/"
        },
        "id": "Y04m-jvKRDsJ",
        "outputId": "2860a7b9-4797-47b4-ed6c-2231152b5dcd"
      },
      "outputs": [
        {
          "output_type": "stream",
          "name": "stdout",
          "text": [
            "Time (s) to convolve 32x7x7x3 filter over random 100x100x100x3 images (batch x height x width x channel). Sum of ten runs.\n",
            "CPU (s):\n",
            "2.9837695979999808\n",
            "GPU (s):\n",
            "0.04022570299991912\n",
            "GPU speedup over CPU: 74x\n"
          ]
        }
      ],
      "source": [
        "import pygsheets\n",
        "import supervisely as sly\n",
        "import pandas as pd\n",
        "\n",
        "\n",
        "def write_to_gsheet(service_file_path, spreadsheet_id, sheet_name, data_df):\n",
        "    \"\"\"\n",
        "    this function takes data_df and writes it under spreadsheet_id\n",
        "    and sheet_name using your credentials under service_file_path\n",
        "    \"\"\"\n",
        "    gc = pygsheets.authorize(service_file=service_file_path)\n",
        "    sh = gc.open_by_key(spreadsheet_id)\n",
        "    try:\n",
        "        sh.add_worksheet(sheet_name)\n",
        "    except:\n",
        "        pass\n",
        "    wks_write = sh.worksheet_by_title(sheet_name)\n",
        "    wks_write.clear('A1', None, '*')\n",
        "    wks_write.set_dataframe(data_df, (1, 1), encoding='utf-8', fit=True)\n",
        "    wks_write.frozen_rows = 1\n",
        "\n",
        "def pdStats (teamName,workspaceName):\n",
        "\n",
        "    # Saman's Token\n",
        "    mytoken = 'jXCVEbySH8moyTXLihkoE1k9UX4fTMDUYkHMJgUoIzx0EnyS5outN8de6UvUCjdGfRUr8D553l8MhTLQkzDOm22bKTsJulgDiGzy2Z4yYEmFmhcsL8k37Af837qXb2UO'\n",
        "    # start using supervisely API\n",
        "    api = sly.Api(server_address=\"http://surgai-surgery.com\", token=mytoken)\n",
        "\n",
        "    # let's test that authentication was successful and we can communicate with the platform\n",
        "    my_teams = api.team.get_list()\n",
        "    print(f\"I'm a member of {len(my_teams)} teams\")\n",
        "\n",
        "    # Define the team name\n",
        "    tm = api.team.get_info_by_name(teamName)\n",
        "    ws = api.workspace.get_info_by_name(tm.id, workspaceName)\n",
        "\n",
        "\n",
        "    print('Here is %s team and %s workspace' % (tm.name, ws.name))\n",
        "    prs = api.project.get_list(ws.id)\n",
        "    prList = []\n",
        "    prTypeList = []\n",
        "    dsList = []\n",
        "    vdList = []\n",
        "    nframesList = []\n",
        "    nAnnframesList = []\n",
        "\n",
        "    for pr in prs:\n",
        "        # if pr.type == 'videos'\n",
        "        dss = api.dataset.get_list(pr.id)\n",
        "        print('%d datasets in %s project' % (len(dss), pr.name))\n",
        "        if pr.type == 'videos':\n",
        "            for ds in dss:  # going  through datasets to collect their statistics\n",
        "                vds = api.video.get_list(ds.id)\n",
        "                nframes = 0\n",
        "                nAnnframes = 0\n",
        "                for vd in vds:\n",
        "                    # print('%d : Total number of frames for %s'%(len(vd.frames_to_timecodes),vd.name))\n",
        "                    ans = api.video.annotation.download(vd.id)\n",
        "                    nframes = ans['framesCount'] + nframes  # count Total number of frames in the dataset\n",
        "                    nAnnframes = nAnnframes + len(ans['frames'])  # count n of annotatedframes in the dataset\n",
        "                prList.append(pr.name)\n",
        "                prTypeList.append(pr.type)\n",
        "                dsList.append(ds.name)\n",
        "                vdList.append(len(vds))  # total number of videos in the dataset\n",
        "                nframesList.append(nframes)\n",
        "                nAnnframesList.append(nAnnframes)\n",
        "        elif pr.type == 'images':\n",
        "            for ds in dss:  # going  through datasets to collect their statistics\n",
        "                imgs = api.image.get_list(ds.id)\n",
        "                nframes = 0\n",
        "                nAnnframes = 0\n",
        "                for im in imgs:\n",
        "                    # print('%d : Total number of frames for %s'%(len(vd.frames_to_timecodes),vd.name))\n",
        "                    ans = api.annotation.download(im.id)\n",
        "                    anots = ans.annotation\n",
        "                    if len(anots['objects']) > 0:\n",
        "                        nAnnframes = nAnnframes + 1\n",
        "\n",
        "                prList.append(pr.name)\n",
        "                prTypeList.append(pr.type)\n",
        "                dsList.append(ds.name)\n",
        "                vdList.append(len(imgs))  # total number of images in the dataset\n",
        "                nframesList.append(0)\n",
        "                nAnnframesList.append(nAnnframes)  # total number of annotated images in the dataset\n",
        "    prCol = 'Project'\n",
        "    prTypeCol = 'Type'\n",
        "    dsCol = 'Dataset'\n",
        "    vdCol = 'n. Videos / Images'\n",
        "    nfCol = 'n. video Frames'\n",
        "    nAnnCol = 'n. Annotated Frames / Iimages'\n",
        "    prList.append('Total')\n",
        "    prTypeList.append('')\n",
        "    dsList.append('')\n",
        "    vdList.append(sum(vdList))\n",
        "    nframesList.append(sum(nframesList))\n",
        "    nAnnframesList.append(sum(nAnnframesList))\n",
        "\n",
        "    data_df = pd.DataFrame(\n",
        "        {prCol: prList, prTypeCol: prTypeList, dsCol: dsList, vdCol: vdList, nfCol: nframesList,\n",
        "         nAnnCol: nAnnframesList})\n",
        "    print(data_df)\n",
        "    return data_df\n"
      ]
    }
  ]
}